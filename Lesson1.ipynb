{
 "cells": [
  {
   "cell_type": "markdown",
   "id": "60898d2b",
   "metadata": {},
   "source": [
    "# Linear Quantization"
   ]
  },
  {
   "cell_type": "code",
   "execution_count": 1,
   "id": "474fe685",
   "metadata": {},
   "outputs": [],
   "source": [
    "import torch\n",
    "\n",
    "def linear_q_with_scale_and_zero_point(tensor, scale, zero_point, dtype = torch.int8):\n",
    "    scaled_and_shifted_tesor = tensor / scale + zero_point\n",
    "    rounded_tensor = torch.round(scaled_and_shifted_tesor)\n",
    "    \n",
    "    q_min = torch.iinfo(dtype).min\n",
    "    q_max = torch.iinfo(dtype).max\n",
    "\n",
    "    q_tensor = rounded_tensor.clamp(q_min, q_max).to(dtype)\n",
    "    return q_tensor\n"
   ]
  },
  {
   "cell_type": "code",
   "execution_count": 10,
   "id": "cbaeee4e",
   "metadata": {},
   "outputs": [],
   "source": [
    "test_tensor = torch.tensor ([\n",
    "    [191.6, -13.5, 728.6],\n",
    "    [92.14, 295.5, -184],\n",
    "    [0, 684.6, 245.5]\n",
    "])"
   ]
  },
  {
   "cell_type": "code",
   "execution_count": 11,
   "id": "beb18e12",
   "metadata": {},
   "outputs": [],
   "source": [
    "scale = 3.5\n",
    "zero_point = -70"
   ]
  },
  {
   "cell_type": "code",
   "execution_count": 12,
   "id": "ba029187",
   "metadata": {},
   "outputs": [],
   "source": [
    "quantized_tensor = linear_q_with_scale_and_zero_point(test_tensor, scale, zero_point)"
   ]
  },
  {
   "cell_type": "code",
   "execution_count": 13,
   "id": "ba1497c8",
   "metadata": {},
   "outputs": [
    {
     "name": "stdout",
     "output_type": "stream",
     "text": [
      "tensor([[ -15,  -74,  127],\n",
      "        [ -44,   14, -123],\n",
      "        [ -70,  126,    0]], dtype=torch.int8)\n"
     ]
    }
   ],
   "source": [
    "print(quantized_tensor)"
   ]
  },
  {
   "cell_type": "code",
   "execution_count": 14,
   "id": "79e02893",
   "metadata": {},
   "outputs": [],
   "source": [
    "dequantized_tensor = scale * (quantized_tensor.float() - zero_point)"
   ]
  },
  {
   "cell_type": "code",
   "execution_count": 15,
   "id": "996123e2",
   "metadata": {},
   "outputs": [
    {
     "name": "stdout",
     "output_type": "stream",
     "text": [
      "tensor([[ 192.5000,  -14.0000,  689.5000],\n",
      "        [  91.0000,  294.0000, -185.5000],\n",
      "        [   0.0000,  686.0000,  245.0000]])\n"
     ]
    }
   ],
   "source": [
    "print(dequantized_tensor)"
   ]
  },
  {
   "cell_type": "code",
   "execution_count": 16,
   "id": "cdca102c",
   "metadata": {},
   "outputs": [],
   "source": [
    "def linear_dequantization(quantized_tensor, scale, zero_point):\n",
    "    return scale * (quantized_tensor.float() - zero_point)"
   ]
  },
  {
   "cell_type": "markdown",
   "id": "19e3f613",
   "metadata": {},
   "source": [
    "# quantization error"
   ]
  },
  {
   "cell_type": "code",
   "execution_count": 17,
   "id": "9e9939de",
   "metadata": {},
   "outputs": [
    {
     "name": "stdout",
     "output_type": "stream",
     "text": [
      "tensor(170.8753)\n"
     ]
    }
   ],
   "source": [
    "print ( ( dequantized_tensor - test_tensor ).square().mean() )"
   ]
  }
 ],
 "metadata": {
  "kernelspec": {
   "display_name": ".venv",
   "language": "python",
   "name": "python3"
  },
  "language_info": {
   "codemirror_mode": {
    "name": "ipython",
    "version": 3
   },
   "file_extension": ".py",
   "mimetype": "text/x-python",
   "name": "python",
   "nbconvert_exporter": "python",
   "pygments_lexer": "ipython3",
   "version": "3.11.9"
  }
 },
 "nbformat": 4,
 "nbformat_minor": 5
}
