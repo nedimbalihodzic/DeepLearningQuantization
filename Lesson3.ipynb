{
 "cells": [
  {
   "cell_type": "markdown",
   "id": "c9574b27",
   "metadata": {},
   "source": [
    "# Linear Quantization Mode"
   ]
  },
  {
   "cell_type": "code",
   "execution_count": null,
   "id": "2185f4b3",
   "metadata": {},
   "outputs": [
    {
     "name": "stdout",
     "output_type": "stream",
     "text": [
      "tensor([[-1.1126, -0.5602,  1.2740, -0.9342],\n",
      "        [-0.8312,  0.9440,  0.4725,  0.5596],\n",
      "        [ 0.4687,  0.8807,  0.0733, -0.3021],\n",
      "        [-0.0227, -1.3223, -0.9463,  1.3512]])\n"
     ]
    }
   ],
   "source": [
    "import torch \n",
    "from my_utils import get_q_scale_symmetric\n",
    "\n",
    "test_tensor = torch.randn(4,4)\n",
    "print(test_tensor)"
   ]
  },
  {
   "cell_type": "code",
   "execution_count": 8,
   "id": "fbb487ec",
   "metadata": {},
   "outputs": [
    {
     "data": {
      "text/plain": [
       "0.010639303312526913"
      ]
     },
     "execution_count": 8,
     "metadata": {},
     "output_type": "execute_result"
    }
   ],
   "source": [
    "get_q_scale_symmetric(test_tensor)"
   ]
  },
  {
   "cell_type": "code",
   "execution_count": 18,
   "id": "acdd4230",
   "metadata": {},
   "outputs": [
    {
     "name": "stdout",
     "output_type": "stream",
     "text": [
      "tensor(8.1444e-06)\n"
     ]
    }
   ],
   "source": [
    "from my_utils import *\n",
    "\n",
    "quantized_tensor, scale = linear_q_symmetric(test_tensor, dtype=torch.int8)\n",
    "\n",
    "dequantized_tensor = linear_dequantization(quantized_tensor, scale, 0)\n",
    "\n",
    "print((dequantized_tensor - test_tensor).square().mean()) "
   ]
  },
  {
   "cell_type": "markdown",
   "id": "3e1b8560",
   "metadata": {},
   "source": [
    "# Quantization Different granularities\n"
   ]
  },
  {
   "cell_type": "code",
   "execution_count": 19,
   "id": "dd4956f3",
   "metadata": {},
   "outputs": [
    {
     "name": "stdout",
     "output_type": "stream",
     "text": [
      "tensor(2.5092)\n"
     ]
    }
   ],
   "source": [
    "test_tensor = torch.tensor(\n",
    "    [[191.6, -13.5, 728.6],\n",
    "     [92.14, 295.5, -184],\n",
    "     [0, 684.6, 245.5]]\n",
    ")\n",
    "\n",
    "quantized_tensor, scale = linear_q_symmetric(test_tensor)\n",
    "\n",
    "dequantized_tensor = linear_dequantization(quantized_tensor, scale, 0)\n",
    "\n",
    "print((dequantized_tensor - test_tensor).square().mean()) "
   ]
  },
  {
   "cell_type": "markdown",
   "id": "2b23faee",
   "metadata": {},
   "source": [
    "# Per channel quantization"
   ]
  },
  {
   "cell_type": "code",
   "execution_count": 35,
   "id": "4f566343",
   "metadata": {},
   "outputs": [
    {
     "name": "stdout",
     "output_type": "stream",
     "text": [
      "3\n",
      "tensor([0., 0., 0.])\n",
      "tensor([191.6000, -13.5000, 728.6000])\n",
      "tensor([  92.1400,  295.5000, -184.0000])\n",
      "tensor([  0.0000, 684.6000, 245.5000])\n",
      "tensor([5.7370, 2.3268, 5.3906])\n"
     ]
    }
   ],
   "source": [
    "test_tensor = torch.tensor(\n",
    "    [[191.6, -13.5, 728.6],\n",
    "     [92.14, 295.5, -184],\n",
    "     [0, 684.6, 245.5]]\n",
    ")\n",
    "\n",
    "# dim = 0, if we want to quantize along the rows, 1 along the columns \n",
    "dim = 0 \n",
    "output_dim = test_tensor.shape[dim]\n",
    "print(output_dim)\n",
    "\n",
    "scale = torch.zeros(output_dim)\n",
    "print(scale)\n",
    "\n",
    "for index in range(output_dim):\n",
    "    sub_tensor = test_tensor.select(dim, index)\n",
    "    scale[index] = get_q_scale_symmetric(sub_tensor)\n",
    "    print(sub_tensor)\n",
    "\n",
    "print(scale)"
   ]
  },
  {
   "cell_type": "code",
   "execution_count": 36,
   "id": "fc044b6a",
   "metadata": {},
   "outputs": [
    {
     "name": "stdout",
     "output_type": "stream",
     "text": [
      "[1, 1]\n",
      "[-1, 1]\n",
      "tensor([[5.7370],\n",
      "        [2.3268],\n",
      "        [5.3906]])\n",
      "tensor([[ 33,  -2, 127],\n",
      "        [ 40, 127, -79],\n",
      "        [  0, 127,  46]], dtype=torch.int8)\n"
     ]
    }
   ],
   "source": [
    "scale_shape = [1] * test_tensor.dim()\n",
    "print(scale_shape)\n",
    "\n",
    "scale_shape[dim] = -1\n",
    "print(scale_shape)\n",
    "\n",
    "scale = scale.view(scale_shape)\n",
    "print(scale)\n",
    "\n",
    "quantized_tensor = linear_q_with_scale_and_zero_point(test_tensor, scale=scale, zero_point=0)\n",
    "\n",
    "print(quantized_tensor)\n"
   ]
  },
  {
   "cell_type": "markdown",
   "id": "31938614",
   "metadata": {},
   "source": [
    "# view function"
   ]
  },
  {
   "cell_type": "code",
   "execution_count": 26,
   "id": "940ea796",
   "metadata": {},
   "outputs": [
    {
     "name": "stdout",
     "output_type": "stream",
     "text": [
      "tensor([[1, 2, 3],\n",
      "        [4, 5, 6],\n",
      "        [7, 8, 9]])\n"
     ]
    }
   ],
   "source": [
    "m = torch.tensor( [[1,2,3], [4,5,6], [7,8,9]] )\n",
    "print(m)\n"
   ]
  },
  {
   "cell_type": "code",
   "execution_count": 30,
   "id": "b40ca4f9",
   "metadata": {},
   "outputs": [
    {
     "name": "stdout",
     "output_type": "stream",
     "text": [
      "tensor([ 1,  5, 10])\n"
     ]
    },
    {
     "data": {
      "text/plain": [
       "torch.Size([1, 3])"
      ]
     },
     "execution_count": 30,
     "metadata": {},
     "output_type": "execute_result"
    }
   ],
   "source": [
    "s = torch.tensor([1,5,10])\n",
    "print(s)\n",
    "\n",
    "s.shape\n",
    "\n",
    "# we can reshape the tensor so the first dimention is of size 1, and the second dimention can contain the rest \n",
    "\n",
    "s.view(1,3).shape\n",
    "\n",
    "s.view(1,-1).shape"
   ]
  },
  {
   "cell_type": "code",
   "execution_count": null,
   "id": "91a272bc",
   "metadata": {},
   "outputs": [
    {
     "name": "stdout",
     "output_type": "stream",
     "text": [
      "torch.Size([3, 1])\n"
     ]
    },
    {
     "data": {
      "text/plain": [
       "tensor([[1.0000, 2.0000, 3.0000],\n",
       "        [0.8000, 1.0000, 1.2000],\n",
       "        [0.7000, 0.8000, 0.9000]])"
      ]
     },
     "execution_count": 32,
     "metadata": {},
     "output_type": "execute_result"
    }
   ],
   "source": [
    "scale = torch.tensor([ [1], [5], [10] ])\n",
    "print(scale.shape)\n",
    "# now we divide each row by the scale \n",
    "m/scale"
   ]
  },
  {
   "cell_type": "code",
   "execution_count": null,
   "id": "70daec40",
   "metadata": {},
   "outputs": [
    {
     "name": "stdout",
     "output_type": "stream",
     "text": [
      "torch.Size([1, 3])\n"
     ]
    },
    {
     "data": {
      "text/plain": [
       "tensor([[1.0000, 0.4000, 0.3000],\n",
       "        [4.0000, 1.0000, 0.6000],\n",
       "        [7.0000, 1.6000, 0.9000]])"
      ]
     },
     "execution_count": 33,
     "metadata": {},
     "output_type": "execute_result"
    }
   ],
   "source": [
    "scale = torch.tensor([[1,5,10] ])\n",
    "print(scale.shape)\n",
    "# now we divide each column by scale \n",
    "m/scale"
   ]
  },
  {
   "cell_type": "code",
   "execution_count": 1,
   "id": "a11f8a88",
   "metadata": {},
   "outputs": [],
   "source": [
    "from my_utils import *\n",
    "\n",
    "test_tensor = torch.tensor(\n",
    "    [[191.6, -13.5, 728.6],\n",
    "     [92.14, 295.5, -184],\n",
    "     [0, 684.6, 245.5]]\n",
    ")\n",
    "\n",
    "quantized_tensor_0, scale_0 = linear_q_symmetric_per_channel(test_tensor, dim = 0 )\n",
    "\n",
    "quantized_tensor_1, scale_1 = linear_q_symmetric_per_channel(test_tensor, dim = 1 )"
   ]
  },
  {
   "cell_type": "code",
   "execution_count": 3,
   "id": "ad881b3e",
   "metadata": {},
   "outputs": [
    {
     "name": "stdout",
     "output_type": "stream",
     "text": [
      "tensor([[ 189.3213,  -11.4740,  728.6000],\n",
      "        [  93.0709,  295.5000, -183.8150],\n",
      "        [   0.0000,  684.6000,  247.9653]])\n",
      "tensor(1.8084)\n"
     ]
    }
   ],
   "source": [
    "dequantized_tensor_0 = linear_dequantization(quantized_tensor_0, scale_0,0)\n",
    "\n",
    "print(dequantized_tensor_0)\n",
    "print((dequantized_tensor_0 - test_tensor).square().mean())"
   ]
  },
  {
   "cell_type": "code",
   "execution_count": 4,
   "id": "9480e3c6",
   "metadata": {},
   "outputs": [
    {
     "name": "stdout",
     "output_type": "stream",
     "text": [
      "tensor([[ 191.6000,  -16.1717,  728.6000],\n",
      "        [  92.0284,  296.4803, -183.5842],\n",
      "        [   0.0000,  684.6000,  246.6913]])\n",
      "tensor(1.0781)\n"
     ]
    }
   ],
   "source": [
    "dequantized_tensor_1 = linear_dequantization(quantized_tensor_1, scale_1,0)\n",
    "\n",
    "print(dequantized_tensor_1)\n",
    "print((dequantized_tensor_1 - test_tensor).square().mean())"
   ]
  }
 ],
 "metadata": {
  "kernelspec": {
   "display_name": ".venv",
   "language": "python",
   "name": "python3"
  },
  "language_info": {
   "codemirror_mode": {
    "name": "ipython",
    "version": 3
   },
   "file_extension": ".py",
   "mimetype": "text/x-python",
   "name": "python",
   "nbconvert_exporter": "python",
   "pygments_lexer": "ipython3",
   "version": "3.11.9"
  }
 },
 "nbformat": 4,
 "nbformat_minor": 5
}
