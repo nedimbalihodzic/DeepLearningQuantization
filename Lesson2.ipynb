{
 "cells": [
  {
   "cell_type": "markdown",
   "id": "52699345",
   "metadata": {},
   "source": [
    " # Scale and Zero-Point"
   ]
  },
  {
   "cell_type": "code",
   "execution_count": 1,
   "id": "76b7fc3f",
   "metadata": {},
   "outputs": [],
   "source": [
    "import torch \n",
    "\n",
    "q_min = torch.iinfo(torch.int8).min\n",
    "q_max = torch.iinfo(torch.int8).max\n",
    "\n",
    "# q_min = -128, q_max = 127"
   ]
  },
  {
   "cell_type": "code",
   "execution_count": 2,
   "id": "efe573df",
   "metadata": {},
   "outputs": [],
   "source": [
    "test_tensor = torch.tensor ([\n",
    "    [191.6, -13.5, 728.6],\n",
    "    [92.14, 295.5, -184],\n",
    "    [0, 684.6, 245.5]\n",
    "])\n",
    "\n",
    "r_min = test_tensor.min().item()\n",
    "r_max = test_tensor.max().item()"
   ]
  },
  {
   "cell_type": "code",
   "execution_count": 3,
   "id": "400af464",
   "metadata": {},
   "outputs": [
    {
     "name": "stdout",
     "output_type": "stream",
     "text": [
      "3.578823433670343\n"
     ]
    }
   ],
   "source": [
    "scale = (r_max - r_min) / (q_max - q_min)\n",
    "print(scale)"
   ]
  },
  {
   "cell_type": "code",
   "execution_count": 4,
   "id": "78951125",
   "metadata": {},
   "outputs": [
    {
     "name": "stdout",
     "output_type": "stream",
     "text": [
      "-77\n"
     ]
    }
   ],
   "source": [
    "zero_point = q_min - (r_min/scale)\n",
    "\n",
    "zero_point = int( round(zero_point) )\n",
    "\n",
    "print(zero_point)"
   ]
  },
  {
   "cell_type": "markdown",
   "id": "f751c226",
   "metadata": {},
   "source": [
    "# General function to get scale factor and zero point"
   ]
  },
  {
   "cell_type": "code",
   "execution_count": 5,
   "id": "f6d80e91",
   "metadata": {},
   "outputs": [],
   "source": [
    "def get_q_scale_and_zero_point(tensor, dtype = torch.int8):\n",
    "    q_min = torch.iinfo(torch.int8).min\n",
    "    q_max = torch.iinfo(torch.int8).max\n",
    "    r_min = tensor.min().item()\n",
    "    r_max = tensor.max().item()\n",
    "    scale = (r_max - r_min) / (q_max - q_min)\n",
    "    zero_point = q_min - (r_min/scale)\n",
    "    if zero_point < q_min:\n",
    "        zero_point = q_min\n",
    "    elif zero_point > q_max:\n",
    "        zero_point = q_max \n",
    "    else: \n",
    "        zero_point = int (round(zero_point)) \n",
    "    \n",
    "    return scale, zero_point "
   ]
  },
  {
   "cell_type": "code",
   "execution_count": 6,
   "id": "8886546b",
   "metadata": {},
   "outputs": [
    {
     "name": "stdout",
     "output_type": "stream",
     "text": [
      "3.578823433670343 -77\n"
     ]
    }
   ],
   "source": [
    "new_scale, new_zero_point = get_q_scale_and_zero_point(test_tensor)\n",
    "\n",
    "print(new_scale, new_zero_point)"
   ]
  },
  {
   "cell_type": "code",
   "execution_count": null,
   "id": "200c711b",
   "metadata": {},
   "outputs": [],
   "source": [
    "from my_utils import linear_dequantization, linear_q_with_scale_and_zero_point\n",
    "\n",
    "\n",
    "quantized_tensor = linear_q_with_scale_and_zero_point(\n",
    "    test_tensor, new_scale, new_zero_point\n",
    ")\n",
    "\n",
    "dequantized_tensor = linear_dequantization(quantized_tensor,new_scale,new_zero_point)\n",
    "\n"
   ]
  },
  {
   "cell_type": "code",
   "execution_count": 9,
   "id": "1c03095c",
   "metadata": {},
   "outputs": [
    {
     "name": "stdout",
     "output_type": "stream",
     "text": [
      "tensor(1.5730)\n"
     ]
    }
   ],
   "source": [
    "print((dequantized_tensor - test_tensor).square().mean())\n"
   ]
  }
 ],
 "metadata": {
  "kernelspec": {
   "display_name": ".venv",
   "language": "python",
   "name": "python3"
  },
  "language_info": {
   "codemirror_mode": {
    "name": "ipython",
    "version": 3
   },
   "file_extension": ".py",
   "mimetype": "text/x-python",
   "name": "python",
   "nbconvert_exporter": "python",
   "pygments_lexer": "ipython3",
   "version": "3.11.9"
  }
 },
 "nbformat": 4,
 "nbformat_minor": 5
}
