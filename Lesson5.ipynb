{
 "cells": [
  {
   "cell_type": "markdown",
   "id": "4cc7ef73",
   "metadata": {},
   "source": [
    "Inference Linear Quantization"
   ]
  },
  {
   "cell_type": "code",
   "execution_count": 1,
   "id": "301f169c",
   "metadata": {},
   "outputs": [],
   "source": [
    "import torch \n",
    "\n",
    "def quantized_linear_W8A32_without_bias(input, q_w, s_w, z_w):\n",
    "    assert input.dtype == torch.float32\n",
    "    assert q_w.dtype == torch.int8\n",
    "\n",
    "    deqantized_weight = q_w.to(torch.float32) * s_w + z_w \n",
    "    output = torch.nn.functional.linear(input, deqantized_weight)\n",
    "    return output"
   ]
  },
  {
   "cell_type": "code",
   "execution_count": 2,
   "id": "6bd09e27",
   "metadata": {},
   "outputs": [],
   "source": [
    "from my_utils import *\n",
    "\n",
    "input = torch.tensor([1,2,3], dtype=torch.float32)\n",
    "\n",
    "weight = torch.tensor([[-2,   -1.13, 0.42],\n",
    "                       [-1.51, 0.25, 1.62],\n",
    "                       [0.23,  1.35, 2.15]])\n",
    "\n",
    "q_w, s_w = linear_q_symmetric(weight)"
   ]
  },
  {
   "cell_type": "code",
   "execution_count": 4,
   "id": "f42b3940",
   "metadata": {},
   "outputs": [
    {
     "name": "stdout",
     "output_type": "stream",
     "text": [
      "This is the W832A output tensor([-2.9965,  3.8768,  9.3957])\n"
     ]
    }
   ],
   "source": [
    "output = quantized_linear_W8A32_without_bias(input, q_w, s_w, 0)\n",
    "\n",
    "print(f\"This is the W832A output {output}\")"
   ]
  },
  {
   "cell_type": "code",
   "execution_count": 5,
   "id": "931ae1d8",
   "metadata": {},
   "outputs": [
    {
     "name": "stdout",
     "output_type": "stream",
     "text": [
      "This is the W832A output tensor([-3.0000,  3.8500,  9.3800])\n"
     ]
    }
   ],
   "source": [
    "fp32_output = torch.nn.functional.linear(input, weight)\n",
    "print(f\"This is the W832A output {fp32_output}\")"
   ]
  }
 ],
 "metadata": {
  "kernelspec": {
   "display_name": ".venv",
   "language": "python",
   "name": "python3"
  },
  "language_info": {
   "codemirror_mode": {
    "name": "ipython",
    "version": 3
   },
   "file_extension": ".py",
   "mimetype": "text/x-python",
   "name": "python",
   "nbconvert_exporter": "python",
   "pygments_lexer": "ipython3",
   "version": "3.11.9"
  }
 },
 "nbformat": 4,
 "nbformat_minor": 5
}
